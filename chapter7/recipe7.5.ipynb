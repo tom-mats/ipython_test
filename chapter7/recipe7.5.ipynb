{
 "cells": [
  {
   "cell_type": "code",
   "execution_count": 122,
   "metadata": {
    "collapsed": true
   },
   "outputs": [],
   "source": [
    "import numpy as np\n",
    "import scipy.stats as stats\n",
    "import pandas as pd\n",
    "import math\n",
    "import matplotlib.pyplot as plt\n",
    "import statsmodels.datasets as ds\n",
    "%matplotlib inline"
   ]
  },
  {
   "cell_type": "markdown",
   "metadata": {
    "heading_collapsed": false,
    "level": 7
   },
   "source": [
    "心臓移植後の生存率データ入手\n",
    "survivalは生存日数，censorは観察が完了したかどうかを示す"
   ]
  },
  {
   "cell_type": "code",
   "execution_count": 123,
   "metadata": {
    "collapsed": false
   },
   "outputs": [
    {
     "data": {
      "text/html": [
       "<div>\n",
       "<table border=\"1\" class=\"dataframe\">\n",
       "  <thead>\n",
       "    <tr style=\"text-align: right;\">\n",
       "      <th></th>\n",
       "      <th>survival</th>\n",
       "      <th>censors</th>\n",
       "      <th>age</th>\n",
       "    </tr>\n",
       "  </thead>\n",
       "  <tbody>\n",
       "    <tr>\n",
       "      <th>64</th>\n",
       "      <td>14</td>\n",
       "      <td>1</td>\n",
       "      <td>40.3</td>\n",
       "    </tr>\n",
       "    <tr>\n",
       "      <th>65</th>\n",
       "      <td>167</td>\n",
       "      <td>0</td>\n",
       "      <td>26.7</td>\n",
       "    </tr>\n",
       "    <tr>\n",
       "      <th>66</th>\n",
       "      <td>110</td>\n",
       "      <td>0</td>\n",
       "      <td>23.7</td>\n",
       "    </tr>\n",
       "    <tr>\n",
       "      <th>67</th>\n",
       "      <td>13</td>\n",
       "      <td>0</td>\n",
       "      <td>28.9</td>\n",
       "    </tr>\n",
       "    <tr>\n",
       "      <th>68</th>\n",
       "      <td>1</td>\n",
       "      <td>0</td>\n",
       "      <td>35.2</td>\n",
       "    </tr>\n",
       "  </tbody>\n",
       "</table>\n",
       "</div>"
      ],
      "text/plain": [
       "    survival  censors   age\n",
       "64        14        1  40.3\n",
       "65       167        0  26.7\n",
       "66       110        0  23.7\n",
       "67        13        0  28.9\n",
       "68         1        0  35.2"
      ]
     },
     "execution_count": 123,
     "metadata": {},
     "output_type": "execute_result"
    }
   ],
   "source": [
    "dt = ds.heart.load_pandas().data\n",
    "dt.tail()"
   ]
  },
  {
   "cell_type": "markdown",
   "metadata": {
    "heading_collapsed": true,
    "level": 7
   },
   "source": [
    "生存日数が保存されているデータのみ抽出する"
   ]
  },
  {
   "cell_type": "code",
   "execution_count": 124,
   "metadata": {
    "collapsed": false,
    "level": 7
   },
   "outputs": [
    {
     "data": {
      "text/plain": [
       "57     50\n",
       "59     68\n",
       "60     26\n",
       "63    161\n",
       "64     14\n",
       "Name: survival, dtype: float64"
      ]
     },
     "execution_count": 124,
     "metadata": {},
     "output_type": "execute_result"
    }
   ],
   "source": [
    "dt = dt[dt.censors == 1]\n",
    "days = dt.survival\n",
    "days.tail()"
   ]
  },
  {
   "cell_type": "markdown",
   "metadata": {
    "heading_collapsed": false,
    "level": 7
   },
   "source": [
    "ソートして表示"
   ]
  },
  {
   "cell_type": "code",
   "execution_count": 125,
   "metadata": {
    "collapsed": false
   },
   "outputs": [
    {
     "data": {
      "text/plain": [
       "[<matplotlib.lines.Line2D at 0x7efefe3a5e10>]"
      ]
     },
     "execution_count": 125,
     "metadata": {},
     "output_type": "execute_result"
    },
    {
     "data": {
      "image/png": "[encoded data removed]",
      "text/plain": [
       "<matplotlib.figure.Figure at 0x7efefe3cad30>"
      ]
     },
     "metadata": {},
     "output_type": "display_data"
    }
   ],
   "source": [
    "plt.plot(sorted(days)[::-1], '.')"
   ]
  },
  {
   "cell_type": "markdown",
   "metadata": {
    "heading_collapsed": false,
    "level": 7
   },
   "source": [
    "ヒストグラム表示"
   ]
  },
  {
   "cell_type": "code",
   "execution_count": 126,
   "metadata": {
    "collapsed": false
   },
   "outputs": [
    {
     "data": {
      "text/plain": [
       "(array([ 12.,  16.,   0.,   3.,   1.,   1.,   1.,   2.,   1.,   0.,   0.,\n",
       "          0.,   0.,   0.,   1.,   0.,   1.,   0.,   1.,   0.,   0.,   1.,\n",
       "          0.,   1.,   0.,   1.,   1.,   0.,   0.,   0.,   0.,   0.,   0.,\n",
       "          0.,   1.]),\n",
       " array([  1.00000000e+00,   3.95428571e+01,   7.80857143e+01,\n",
       "          1.16628571e+02,   1.55171429e+02,   1.93714286e+02,\n",
       "          2.32257143e+02,   2.70800000e+02,   3.09342857e+02,\n",
       "          3.47885714e+02,   3.86428571e+02,   4.24971429e+02,\n",
       "          4.63514286e+02,   5.02057143e+02,   5.40600000e+02,\n",
       "          5.79142857e+02,   6.17685714e+02,   6.56228571e+02,\n",
       "          6.94771429e+02,   7.33314286e+02,   7.71857143e+02,\n",
       "          8.10400000e+02,   8.48942857e+02,   8.87485714e+02,\n",
       "          9.26028571e+02,   9.64571429e+02,   1.00311429e+03,\n",
       "          1.04165714e+03,   1.08020000e+03,   1.11874286e+03,\n",
       "          1.15728571e+03,   1.19582857e+03,   1.23437143e+03,\n",
       "          1.27291429e+03,   1.31145714e+03,   1.35000000e+03]),\n",
       " <a list of 35 Patch objects>)"
      ]
     },
     "execution_count": 126,
     "metadata": {},
     "output_type": "execute_result"
    },
    {
     "data": {
      "image/png": "[encoded data removed]",
      "text/plain": [
       "<matplotlib.figure.Figure at 0x7efefe37f5c0>"
      ]
     },
     "metadata": {},
     "output_type": "display_data"
    }
   ],
   "source": [
    "bins = 35\n",
    "plt.hist(days, bins=bins)"
   ]
  },
  {
   "cell_type": "markdown",
   "metadata": {
    "heading_collapsed": true,
    "level": 7
   },
   "source": [
    "指数関数で当てはめてみる\n",
    "指数関数の最尤関数は\n",
    "$$L(\\lambda, \\{s_i\\}) = P(\\{s_i\\}|\\lambda) = \\lambda^n \\exp(-\\lambda n \\bar{s})$$\n",
    "と，なり\n",
    "最大になるのは\n",
    "$$\\frac{\\partial L}{\\partial \\lambda} = n\\lambda^{n-1}\\exp(-\\lambda n \\bar{s}) - n\\bar{s}\\lambda^{n} \\exp(-\\lambda n \\bar{s}) = 0$$\n",
    "$$n^{-1}\\exp(\\lambda n \\bar{s})\\frac{\\partial L}{\\partial \\lambda} = \\lambda^{n-1} - \\bar{s}\\lambda^{n} = 0$$\n",
    "より\n",
    "$$\\lambda = \\frac{1}{\\bar{s}}$$"
   ]
  },
  {
   "cell_type": "code",
   "execution_count": 127,
   "metadata": {
    "collapsed": false,
    "level": 7
   },
   "outputs": [],
   "source": [
    "lmbd = 1.0 / days.mean()\n",
    "interval = np.linspace(0.0, days.max(), 1000)\n",
    "dt = interval / 999.0\n",
    "dist_exp = stats.expon.pdf(interval, scale = days.mean())"
   ]
  },
  {
   "cell_type": "markdown",
   "metadata": {
    "heading_collapsed": false,
    "level": 7
   },
   "source": [
    "ここでdist_expは\n",
    "$$P(x(=interval)) = \\frac{1}{\\bar{s}}\\exp(-\\bar{s}^{-1}[interval])$$であり，最尤推定から求めた確率密度関数である．\n",
    "ヒストグラムは\n",
    "$$n * P(x) * max /スパン$$で求まるので，"
   ]
  },
  {
   "cell_type": "code",
   "execution_count": null,
   "metadata": {
    "collapsed": true
   },
   "outputs": [],
   "source": []
  },
  {
   "cell_type": "code",
   "execution_count": 128,
   "metadata": {
    "collapsed": false,
    "scrolled": true
   },
   "outputs": [
    {
     "data": {
      "text/plain": [
       "[<matplotlib.lines.Line2D at 0x7efefe295400>]"
      ]
     },
     "execution_count": 128,
     "metadata": {},
     "output_type": "execute_result"
    },
    {
     "data": {
      "image/png": "[encoded data removed]",
      "text/plain": [
       "<matplotlib.figure.Figure at 0x7efefe295240>"
      ]
     },
     "metadata": {},
     "output_type": "display_data"
    }
   ],
   "source": [
    "plt.hist(days, bins)\n",
    "plt.plot(interval, dist_exp * len(days) * days.max() / (bins))"
   ]
  },
  {
   "cell_type": "markdown",
   "metadata": {
    "heading_collapsed": false,
    "level": 7
   },
   "source": [
    "あまりあっていないように見える\n",
    "コルモゴロフ-スミルノフ検定で調べてみる"
   ]
  },
  {
   "cell_type": "code",
   "execution_count": 129,
   "metadata": {
    "collapsed": false
   },
   "outputs": [
    {
     "name": "stdout",
     "output_type": "stream",
     "text": [
      "(-2.5935321915766018e-08, 96.706486229972768)\n",
      "KstestResult(statistic=0.19424647101988513, pvalue=0.058114340911952)\n"
     ]
    },
    {
     "data": {
      "text/plain": [
       "(array([ 7.,  0.,  0.,  6.,  0.,  0.,  5.,  0.,  0.,  4.,  0.,  0.,  3.,\n",
       "         0.,  0.,  3.,  0.,  0.,  0.,  2.,  0.,  0.,  2.,  0.,  0.,  1.,\n",
       "         0.,  0.,  1.,  0.,  0.,  1.,  0.,  0.,  1.]),\n",
       " array([   0.        ,    9.22857143,   18.45714286,   27.68571429,\n",
       "          36.91428571,   46.14285714,   55.37142857,   64.6       ,\n",
       "          73.82857143,   83.05714286,   92.28571429,  101.51428571,\n",
       "         110.74285714,  119.97142857,  129.2       ,  138.42857143,\n",
       "         147.65714286,  156.88571429,  166.11428571,  175.34285714,\n",
       "         184.57142857,  193.8       ,  203.02857143,  212.25714286,\n",
       "         221.48571429,  230.71428571,  239.94285714,  249.17142857,\n",
       "         258.4       ,  267.62857143,  276.85714286,  286.08571429,\n",
       "         295.31428571,  304.54285714,  313.77142857,  323.        ]),\n",
       " <a list of 35 Patch objects>)"
      ]
     },
     "execution_count": 129,
     "metadata": {},
     "output_type": "execute_result"
    },
    {
     "data": {
      "image/png": "[encoded data removed]",
      "text/plain": [
       "<matplotlib.figure.Figure at 0x7efefe1c5080>"
      ]
     },
     "metadata": {},
     "output_type": "display_data"
    }
   ],
   "source": [
    "lh_dt1 = dist_exp * len(days) * days.max() / (bins)\n",
    "interval2 = list(map(lambda n:math.floor(n / days.max() * 999), list(np.linspace(0.0, days.max(), bins))))\n",
    "hist_lh_dt1 = []\n",
    "for x in interval2:\n",
    "    for  y in range(0, math.floor(lh_dt1[x])):\n",
    "        hist_lh_dt1.append(x)\n",
    "\n",
    "args = stats.expon.fit(hist_lh_dt1)\n",
    "print(args)\n",
    "print(stats.kstest(days, stats.expon.cdf, args))\n",
    "plt.hist(days, bins, alpha=0.50)\n",
    "plt.hist(hist_lh_dt1, bins, alpha=0.50)"
   ]
  },
  {
   "cell_type": "markdown",
   "metadata": {
    "heading_collapsed": false,
    "level": 7
   },
   "source": [
    "一応あっているが結構ギリギリ.細かいとダメになるらしい\n",
    "数値解析で求めてみる"
   ]
  },
  {
   "cell_type": "code",
   "execution_count": 130,
   "metadata": {
    "collapsed": false
   },
   "outputs": [
    {
     "name": "stdout",
     "output_type": "stream",
     "text": [
      "KstestResult(statistic=0.36199685486406347, pvalue=8.6470960143358866e-06)\n"
     ]
    },
    {
     "data": {
      "text/plain": [
       "[<matplotlib.lines.Line2D at 0x7efefe1bae80>]"
      ]
     },
     "execution_count": 130,
     "metadata": {},
     "output_type": "execute_result"
    },
    {
     "data": {
      "image/png": "[encoded data removed]",
      "text/plain": [
       "<matplotlib.figure.Figure at 0x7efefe1bae48>"
      ]
     },
     "metadata": {},
     "output_type": "display_data"
    }
   ],
   "source": [
    "loc, size = stats.expon.fit(days)\n",
    "dist_exp_na = stats.expon.pdf(interval, loc=loc, scale = size)\n",
    "print(stats.kstest(days, stats.expon.cdf, [loc, size]))\n",
    "plt.hist(days, bins)\n",
    "plt.plot(interval, dist_exp_na * len(days) * days.max() / (bins))"
   ]
  },
  {
   "cell_type": "markdown",
   "metadata": {
    "heading_collapsed": false,
    "level": 7
   },
   "source": [
    "細かいとダメになるらしい.\n",
    "別の回帰方法(パーンバウム・サンダース分布)を使ってみる．\n",
    "この分布は故障が発生するまでの時間をモデル化するのによく使用される．"
   ]
  },
  {
   "cell_type": "code",
   "execution_count": 131,
   "metadata": {
    "collapsed": false
   },
   "outputs": [
    {
     "name": "stdout",
     "output_type": "stream",
     "text": [
      "KstestResult(statistic=0.18773446101946889, pvalue=0.073211497000863268)\n"
     ]
    }
   ],
   "source": [
    "bs_dist = stats.fatiguelife\n",
    "args_bs = bs_dist.fit(days)\n",
    "print(stats.kstest(days, bs_dist.cdf, args_bs))"
   ]
  },
  {
   "cell_type": "markdown",
   "metadata": {
    "heading_collapsed": false,
    "level": 7
   },
   "source": [
    "7%なのでまともそうである．プロットしてみる"
   ]
  },
  {
   "cell_type": "code",
   "execution_count": null,
   "metadata": {
    "collapsed": true
   },
   "outputs": [],
   "source": []
  },
  {
   "cell_type": "code",
   "execution_count": 132,
   "metadata": {
    "collapsed": false
   },
   "outputs": [
    {
     "data": {
      "text/plain": [
       "[<matplotlib.lines.Line2D at 0x7efefe09efd0>]"
      ]
     },
     "execution_count": 132,
     "metadata": {},
     "output_type": "execute_result"
    },
    {
     "data": {
      "image/png": "[encoded data removed]",
      "text/plain": [
       "<matplotlib.figure.Figure at 0x7efefe210b70>"
      ]
     },
     "metadata": {},
     "output_type": "display_data"
    }
   ],
   "source": [
    "bs_pdf = bs_dist.pdf(interval, *args_bs)\n",
    "coef = len(days) * days.max() / (bins)\n",
    "plt.hist(days, bins)\n",
    "plt.plot(interval, coef * dist_exp_na)\n",
    "plt.plot(interval, coef * bs_pdf)"
   ]
  },
  {
   "cell_type": "markdown",
   "metadata": {
    "heading_collapsed": false,
    "level": 7
   },
   "source": [
    "確かに近いことがわかる"
   ]
  }
 ],
 "metadata": {
  "kernelspec": {
   "display_name": "Python 3",
   "language": "python",
   "name": "python3"
  },
  "language_info": {
   "codemirror_mode": {
    "name": "ipython",
    "version": 3
   },
   "file_extension": ".py",
   "mimetype": "text/x-python",
   "name": "python",
   "nbconvert_exporter": "python",
   "pygments_lexer": "ipython3",
   "version": "3.4.3"
  },
  "latex_envs": {
   "bibliofile": "biblio.bib",
   "cite_by": "apalike",
   "current_citInitial": 1,
   "eqLabelWithNumbers": true,
   "eqNumInitial": 0
  }
 },
 "nbformat": 4,
 "nbformat_minor": 0
}
